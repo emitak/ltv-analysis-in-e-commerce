{
 "cells": [
  {
   "cell_type": "code",
   "execution_count": 1,
   "id": "85f83ef1",
   "metadata": {},
   "outputs": [],
   "source": [
    "import pandas as pd\n",
    "import numpy as np\n",
    "import matplotlib.pyplot as plt\n",
    "import japanize_matplotlib\n",
    "import seaborn as sns"
   ]
  },
  {
   "cell_type": "code",
   "execution_count": 2,
   "id": "456ad1e3",
   "metadata": {},
   "outputs": [],
   "source": [
    "file_path = 'analysis1_sample_data.csv'\n",
    "df = pd.read_csv(file_path)"
   ]
  },
  {
   "cell_type": "code",
   "execution_count": 3,
   "id": "e7a585ce",
   "metadata": {},
   "outputs": [
    {
     "data": {
      "text/html": [
       "<div>\n",
       "<style scoped>\n",
       "    .dataframe tbody tr th:only-of-type {\n",
       "        vertical-align: middle;\n",
       "    }\n",
       "\n",
       "    .dataframe tbody tr th {\n",
       "        vertical-align: top;\n",
       "    }\n",
       "\n",
       "    .dataframe thead th {\n",
       "        text-align: right;\n",
       "    }\n",
       "</style>\n",
       "<table border=\"1\" class=\"dataframe\">\n",
       "  <thead>\n",
       "    <tr style=\"text-align: right;\">\n",
       "      <th></th>\n",
       "      <th>user_id</th>\n",
       "      <th>first_purchase_date</th>\n",
       "      <th>second_purchase_date</th>\n",
       "      <th>second_purchase_type</th>\n",
       "      <th>second_purchase_item_quantity</th>\n",
       "      <th>second_purchase_price</th>\n",
       "      <th>third_purchase_date</th>\n",
       "      <th>third_purchase_type</th>\n",
       "      <th>third_purchase_item_quantity</th>\n",
       "      <th>third_purchase_price</th>\n",
       "      <th>...</th>\n",
       "      <th>tenth_purchase_price</th>\n",
       "      <th>eleventh_purchase_date</th>\n",
       "      <th>eleventh_purchase_type</th>\n",
       "      <th>eleventh_purchase_item_quantity</th>\n",
       "      <th>eleventh_purchase_price</th>\n",
       "      <th>twelfth_purchase_date</th>\n",
       "      <th>twelfth_purchase_type</th>\n",
       "      <th>twelfth_purchase_item_quantity</th>\n",
       "      <th>twelfth_purchase_price</th>\n",
       "      <th>ltv_365</th>\n",
       "    </tr>\n",
       "  </thead>\n",
       "  <tbody>\n",
       "    <tr>\n",
       "      <th>0</th>\n",
       "      <td>1</td>\n",
       "      <td>2023-02-18</td>\n",
       "      <td>NaN</td>\n",
       "      <td>NaN</td>\n",
       "      <td>NaN</td>\n",
       "      <td>NaN</td>\n",
       "      <td>NaN</td>\n",
       "      <td>NaN</td>\n",
       "      <td>NaN</td>\n",
       "      <td>NaN</td>\n",
       "      <td>...</td>\n",
       "      <td>NaN</td>\n",
       "      <td>NaN</td>\n",
       "      <td>NaN</td>\n",
       "      <td>NaN</td>\n",
       "      <td>NaN</td>\n",
       "      <td>NaN</td>\n",
       "      <td>NaN</td>\n",
       "      <td>NaN</td>\n",
       "      <td>NaN</td>\n",
       "      <td>0.0</td>\n",
       "    </tr>\n",
       "    <tr>\n",
       "      <th>1</th>\n",
       "      <td>2</td>\n",
       "      <td>2023-02-25</td>\n",
       "      <td>2023-03-10</td>\n",
       "      <td>定期</td>\n",
       "      <td>3.0</td>\n",
       "      <td>3600.0</td>\n",
       "      <td>NaN</td>\n",
       "      <td>NaN</td>\n",
       "      <td>NaN</td>\n",
       "      <td>NaN</td>\n",
       "      <td>...</td>\n",
       "      <td>NaN</td>\n",
       "      <td>NaN</td>\n",
       "      <td>NaN</td>\n",
       "      <td>NaN</td>\n",
       "      <td>NaN</td>\n",
       "      <td>NaN</td>\n",
       "      <td>NaN</td>\n",
       "      <td>NaN</td>\n",
       "      <td>NaN</td>\n",
       "      <td>3600.0</td>\n",
       "    </tr>\n",
       "    <tr>\n",
       "      <th>2</th>\n",
       "      <td>3</td>\n",
       "      <td>2023-02-18</td>\n",
       "      <td>NaN</td>\n",
       "      <td>NaN</td>\n",
       "      <td>NaN</td>\n",
       "      <td>NaN</td>\n",
       "      <td>NaN</td>\n",
       "      <td>NaN</td>\n",
       "      <td>NaN</td>\n",
       "      <td>NaN</td>\n",
       "      <td>...</td>\n",
       "      <td>NaN</td>\n",
       "      <td>NaN</td>\n",
       "      <td>NaN</td>\n",
       "      <td>NaN</td>\n",
       "      <td>NaN</td>\n",
       "      <td>NaN</td>\n",
       "      <td>NaN</td>\n",
       "      <td>NaN</td>\n",
       "      <td>NaN</td>\n",
       "      <td>0.0</td>\n",
       "    </tr>\n",
       "    <tr>\n",
       "      <th>3</th>\n",
       "      <td>4</td>\n",
       "      <td>2023-02-15</td>\n",
       "      <td>2023-02-26</td>\n",
       "      <td>定期</td>\n",
       "      <td>3.0</td>\n",
       "      <td>3600.0</td>\n",
       "      <td>2023-03-31</td>\n",
       "      <td>定期</td>\n",
       "      <td>3.0</td>\n",
       "      <td>4050.0</td>\n",
       "      <td>...</td>\n",
       "      <td>NaN</td>\n",
       "      <td>NaN</td>\n",
       "      <td>NaN</td>\n",
       "      <td>NaN</td>\n",
       "      <td>NaN</td>\n",
       "      <td>NaN</td>\n",
       "      <td>NaN</td>\n",
       "      <td>NaN</td>\n",
       "      <td>NaN</td>\n",
       "      <td>13050.0</td>\n",
       "    </tr>\n",
       "    <tr>\n",
       "      <th>4</th>\n",
       "      <td>5</td>\n",
       "      <td>2023-01-10</td>\n",
       "      <td>NaN</td>\n",
       "      <td>NaN</td>\n",
       "      <td>NaN</td>\n",
       "      <td>NaN</td>\n",
       "      <td>NaN</td>\n",
       "      <td>NaN</td>\n",
       "      <td>NaN</td>\n",
       "      <td>NaN</td>\n",
       "      <td>...</td>\n",
       "      <td>NaN</td>\n",
       "      <td>NaN</td>\n",
       "      <td>NaN</td>\n",
       "      <td>NaN</td>\n",
       "      <td>NaN</td>\n",
       "      <td>NaN</td>\n",
       "      <td>NaN</td>\n",
       "      <td>NaN</td>\n",
       "      <td>NaN</td>\n",
       "      <td>0.0</td>\n",
       "    </tr>\n",
       "  </tbody>\n",
       "</table>\n",
       "<p>5 rows × 47 columns</p>\n",
       "</div>"
      ],
      "text/plain": [
       "   user_id first_purchase_date second_purchase_date second_purchase_type  \\\n",
       "0        1          2023-02-18                  NaN                  NaN   \n",
       "1        2          2023-02-25           2023-03-10                   定期   \n",
       "2        3          2023-02-18                  NaN                  NaN   \n",
       "3        4          2023-02-15           2023-02-26                   定期   \n",
       "4        5          2023-01-10                  NaN                  NaN   \n",
       "\n",
       "   second_purchase_item_quantity  second_purchase_price third_purchase_date  \\\n",
       "0                            NaN                    NaN                 NaN   \n",
       "1                            3.0                 3600.0                 NaN   \n",
       "2                            NaN                    NaN                 NaN   \n",
       "3                            3.0                 3600.0          2023-03-31   \n",
       "4                            NaN                    NaN                 NaN   \n",
       "\n",
       "  third_purchase_type  third_purchase_item_quantity  third_purchase_price  \\\n",
       "0                 NaN                           NaN                   NaN   \n",
       "1                 NaN                           NaN                   NaN   \n",
       "2                 NaN                           NaN                   NaN   \n",
       "3                  定期                           3.0                4050.0   \n",
       "4                 NaN                           NaN                   NaN   \n",
       "\n",
       "   ... tenth_purchase_price eleventh_purchase_date  eleventh_purchase_type  \\\n",
       "0  ...                  NaN                    NaN                     NaN   \n",
       "1  ...                  NaN                    NaN                     NaN   \n",
       "2  ...                  NaN                    NaN                     NaN   \n",
       "3  ...                  NaN                    NaN                     NaN   \n",
       "4  ...                  NaN                    NaN                     NaN   \n",
       "\n",
       "   eleventh_purchase_item_quantity eleventh_purchase_price  \\\n",
       "0                              NaN                     NaN   \n",
       "1                              NaN                     NaN   \n",
       "2                              NaN                     NaN   \n",
       "3                              NaN                     NaN   \n",
       "4                              NaN                     NaN   \n",
       "\n",
       "  twelfth_purchase_date  twelfth_purchase_type  \\\n",
       "0                   NaN                    NaN   \n",
       "1                   NaN                    NaN   \n",
       "2                   NaN                    NaN   \n",
       "3                   NaN                    NaN   \n",
       "4                   NaN                    NaN   \n",
       "\n",
       "   twelfth_purchase_item_quantity twelfth_purchase_price  ltv_365  \n",
       "0                             NaN                    NaN      0.0  \n",
       "1                             NaN                    NaN   3600.0  \n",
       "2                             NaN                    NaN      0.0  \n",
       "3                             NaN                    NaN  13050.0  \n",
       "4                             NaN                    NaN      0.0  \n",
       "\n",
       "[5 rows x 47 columns]"
      ]
     },
     "execution_count": 3,
     "metadata": {},
     "output_type": "execute_result"
    }
   ],
   "source": [
    "df.head()"
   ]
  },
  {
   "cell_type": "code",
   "execution_count": 4,
   "id": "5bb17f15",
   "metadata": {},
   "outputs": [],
   "source": [
    "df[\"first_purchase_date\"] = pd.to_datetime(df[\"first_purchase_date\"])\n",
    "df[\"second_purchase_date\"] = pd.to_datetime(df[\"second_purchase_date\"])"
   ]
  },
  {
   "cell_type": "code",
   "execution_count": 5,
   "id": "2e550a55",
   "metadata": {},
   "outputs": [],
   "source": [
    "#F1〜F2の日数を追加\n",
    "df[\"datediff_f1_to_f2\"] = (df[\"second_purchase_date\"] - df[\"first_purchase_date\"]).dt.days"
   ]
  },
  {
   "cell_type": "code",
   "execution_count": 6,
   "id": "d85fe00a",
   "metadata": {},
   "outputs": [],
   "source": [
    "#F1〜F2の日数ごとのユーザー数をカウント\n",
    "count_f2_users = df.groupby(\"datediff_f1_to_f2\")[\"user_id\"].nunique()"
   ]
  },
  {
   "cell_type": "code",
   "execution_count": 7,
   "id": "d313b32e",
   "metadata": {},
   "outputs": [
    {
     "data": {
      "image/png": "[encoded data removed]",
      "text/plain": [
       "<Figure size 720x432 with 1 Axes>"
      ]
     },
     "metadata": {
      "needs_background": "light"
     },
     "output_type": "display_data"
    }
   ],
   "source": [
    "plt.figure(figsize=(10, 6))\n",
    "plt.plot(count_f2_users.index, count_f2_users.values, marker='o', linestyle='-', color='navy')\n",
    "plt.title('F2転換までの日数ごとの転換ユーザー数')\n",
    "plt.xlabel('F2転換までの日数')\n",
    "plt.ylabel('転換ユーザー数')\n",
    "plt.grid(True)\n",
    "plt.show()"
   ]
  },
  {
   "cell_type": "code",
   "execution_count": 8,
   "id": "55418f20",
   "metadata": {},
   "outputs": [],
   "source": [
    "#F2~F5の定期・スポットの分類ごとにユーザー数をカウント\n",
    "purchase_types = ['second_purchase_type', 'third_purchase_type', 'fourth_purchase_type', 'fifth_purchase_type']\n",
    "results = {purchase: df.groupby(purchase)[\"user_id\"].nunique() for purchase in purchase_types}\n",
    "results_df = pd.DataFrame(results).fillna(0).transpose()"
   ]
  },
  {
   "cell_type": "code",
   "execution_count": 9,
   "id": "f3b91a8f",
   "metadata": {},
   "outputs": [
    {
     "data": {
      "image/png": "[encoded data removed]",
      "text/plain": [
       "<Figure size 720x432 with 1 Axes>"
      ]
     },
     "metadata": {
      "needs_background": "light"
     },
     "output_type": "display_data"
    }
   ],
   "source": [
    "results_df_reversed = results_df[results_df.columns[::-1]]\n",
    "\n",
    "colors = ['navy', 'mediumorchid']\n",
    "\n",
    "results_df_reversed.plot(kind='bar', stacked=True, figsize=(10, 6), color=colors)\n",
    "ticks = range(len(results_df.index))\n",
    "labels = ['F2', 'F3', 'F4', 'F5']\n",
    "plt.title('F2〜F5転換ユーザーの定期・スポット割合')\n",
    "plt.xlabel('購入回数')\n",
    "plt.ylabel('転換ユーザー数')\n",
    "plt.xticks(ticks=ticks, labels=labels, rotation=0)\n",
    "\n",
    "plt.legend(title='購入タイプ')\n",
    "plt.show()"
   ]
  },
  {
   "cell_type": "code",
   "execution_count": 10,
   "id": "3e02e36d",
   "metadata": {},
   "outputs": [],
   "source": [
    "#F2の定期・スポットの分類ごとに365日LTVの平均を集計\n",
    "agg_mean_results = df.groupby('second_purchase_type').agg(\n",
    "    avg_ltv=pd.NamedAgg(column='ltv_365', aggfunc='mean')\n",
    ").reset_index()"
   ]
  },
  {
   "cell_type": "code",
   "execution_count": 11,
   "id": "535a8580",
   "metadata": {},
   "outputs": [],
   "source": [
    "agg_mean_results = agg_mean_results.rename(columns={\n",
    "    'second_purchase_type': 'F2転換タイプ',\n",
    "    'avg_ltv': '365日LTV平均'\n",
    "})"
   ]
  },
  {
   "cell_type": "code",
   "execution_count": 12,
   "id": "f8416d6a",
   "metadata": {},
   "outputs": [],
   "source": [
    "agg_mean_results['365日LTV平均'] = agg_mean_results['365日LTV平均'].round()\n",
    "agg_mean_results['365日LTV平均'] = agg_mean_results['365日LTV平均'].astype('int')"
   ]
  },
  {
   "cell_type": "code",
   "execution_count": 13,
   "id": "202baa07",
   "metadata": {},
   "outputs": [
    {
     "data": {
      "text/html": [
       "<div>\n",
       "<style scoped>\n",
       "    .dataframe tbody tr th:only-of-type {\n",
       "        vertical-align: middle;\n",
       "    }\n",
       "\n",
       "    .dataframe tbody tr th {\n",
       "        vertical-align: top;\n",
       "    }\n",
       "\n",
       "    .dataframe thead th {\n",
       "        text-align: right;\n",
       "    }\n",
       "</style>\n",
       "<table border=\"1\" class=\"dataframe\">\n",
       "  <thead>\n",
       "    <tr style=\"text-align: right;\">\n",
       "      <th></th>\n",
       "      <th>F2転換タイプ</th>\n",
       "      <th>365日LTV平均</th>\n",
       "    </tr>\n",
       "  </thead>\n",
       "  <tbody>\n",
       "    <tr>\n",
       "      <th>0</th>\n",
       "      <td>スポット</td>\n",
       "      <td>6428</td>\n",
       "    </tr>\n",
       "    <tr>\n",
       "      <th>1</th>\n",
       "      <td>定期</td>\n",
       "      <td>17809</td>\n",
       "    </tr>\n",
       "  </tbody>\n",
       "</table>\n",
       "</div>"
      ],
      "text/plain": [
       "  F2転換タイプ  365日LTV平均\n",
       "0    スポット       6428\n",
       "1      定期      17809"
      ]
     },
     "execution_count": 13,
     "metadata": {},
     "output_type": "execute_result"
    }
   ],
   "source": [
    "agg_mean_results"
   ]
  },
  {
   "cell_type": "code",
   "execution_count": 14,
   "id": "7691977e",
   "metadata": {},
   "outputs": [],
   "source": [
    "df_filtered = df[df['ltv_365'] > 0]"
   ]
  },
  {
   "cell_type": "code",
   "execution_count": 15,
   "id": "3e6bb230",
   "metadata": {},
   "outputs": [
    {
     "data": {
      "image/png": "[encoded data removed]",
      "text/plain": [
       "<Figure size 720x432 with 1 Axes>"
      ]
     },
     "metadata": {
      "needs_background": "light"
     },
     "output_type": "display_data"
    }
   ],
   "source": [
    "plt.figure(figsize=(10, 6))\n",
    "colors = ['navy', 'mediumorchid']\n",
    "sns.boxplot(x='second_purchase_type', y='ltv_365', data=df_filtered, palette=colors)\n",
    "plt.title('F2転換タイプ別365日LTV')\n",
    "plt.xlabel('F2転換タイプ')\n",
    "plt.ylabel('365日LTV')\n",
    "plt.tight_layout()  # レイアウトの自動調整\n",
    "plt.show()"
   ]
  },
  {
   "cell_type": "code",
   "execution_count": 16,
   "id": "25d92578",
   "metadata": {},
   "outputs": [],
   "source": [
    "#F2の定期・スポットの分類ごとに、F2~F5の残存率を集計したCSVを読み込む\n",
    "file_path = 'analysis1_sample_data_2.csv'\n",
    "agg_df = pd.read_csv(file_path)"
   ]
  },
  {
   "cell_type": "code",
   "execution_count": 17,
   "id": "d1cb19c4",
   "metadata": {},
   "outputs": [
    {
     "data": {
      "text/html": [
       "<div>\n",
       "<style scoped>\n",
       "    .dataframe tbody tr th:only-of-type {\n",
       "        vertical-align: middle;\n",
       "    }\n",
       "\n",
       "    .dataframe tbody tr th {\n",
       "        vertical-align: top;\n",
       "    }\n",
       "\n",
       "    .dataframe thead th {\n",
       "        text-align: right;\n",
       "    }\n",
       "</style>\n",
       "<table border=\"1\" class=\"dataframe\">\n",
       "  <thead>\n",
       "    <tr style=\"text-align: right;\">\n",
       "      <th></th>\n",
       "      <th>second_purchase_type</th>\n",
       "      <th>count_second_users</th>\n",
       "      <th>count_third_users</th>\n",
       "      <th>count_fourth_users</th>\n",
       "      <th>count_fifth_users</th>\n",
       "      <th>second_survival_rate</th>\n",
       "      <th>third_survival_rate</th>\n",
       "      <th>fourth_survival_rate</th>\n",
       "      <th>fifth_survival_rate</th>\n",
       "    </tr>\n",
       "  </thead>\n",
       "  <tbody>\n",
       "    <tr>\n",
       "      <th>0</th>\n",
       "      <td>スポット</td>\n",
       "      <td>3600</td>\n",
       "      <td>2247</td>\n",
       "      <td>1164</td>\n",
       "      <td>578</td>\n",
       "      <td>100.0</td>\n",
       "      <td>62.4</td>\n",
       "      <td>32.3</td>\n",
       "      <td>16.1</td>\n",
       "    </tr>\n",
       "    <tr>\n",
       "      <th>1</th>\n",
       "      <td>定期</td>\n",
       "      <td>14400</td>\n",
       "      <td>12055</td>\n",
       "      <td>10948</td>\n",
       "      <td>9943</td>\n",
       "      <td>100.0</td>\n",
       "      <td>83.7</td>\n",
       "      <td>76.0</td>\n",
       "      <td>69.0</td>\n",
       "    </tr>\n",
       "  </tbody>\n",
       "</table>\n",
       "</div>"
      ],
      "text/plain": [
       "  second_purchase_type  count_second_users  count_third_users  \\\n",
       "0                 スポット                3600               2247   \n",
       "1                   定期               14400              12055   \n",
       "\n",
       "   count_fourth_users  count_fifth_users  second_survival_rate  \\\n",
       "0                1164                578                 100.0   \n",
       "1               10948               9943                 100.0   \n",
       "\n",
       "   third_survival_rate  fourth_survival_rate  fifth_survival_rate  \n",
       "0                 62.4                  32.3                 16.1  \n",
       "1                 83.7                  76.0                 69.0  "
      ]
     },
     "execution_count": 17,
     "metadata": {},
     "output_type": "execute_result"
    }
   ],
   "source": [
    "agg_df.head()"
   ]
  },
  {
   "cell_type": "code",
   "execution_count": 18,
   "id": "596f6855",
   "metadata": {},
   "outputs": [],
   "source": [
    "# 購入フェーズ（X軸のラベル）\n",
    "phases = ['F2', 'F3', 'F4', 'F5']"
   ]
  },
  {
   "cell_type": "code",
   "execution_count": 19,
   "id": "76c7b72e",
   "metadata": {},
   "outputs": [],
   "source": [
    "user_counts = agg_df.filter(like='count_').values.T  # ユーザーカウント\n",
    "survival_rates = agg_df.filter(like='_survival_rate').values.T  # 残存率"
   ]
  },
  {
   "cell_type": "code",
   "execution_count": 20,
   "id": "863ad43a",
   "metadata": {},
   "outputs": [
    {
     "data": {
      "text/plain": [
       "<matplotlib.legend.Legend at 0x7fa2a8988520>"
      ]
     },
     "execution_count": 20,
     "metadata": {},
     "output_type": "execute_result"
    },
    {
     "data": {
      "image/png": "[encoded data removed]",
      "text/plain": [
       "<Figure size 432x288 with 2 Axes>"
      ]
     },
     "metadata": {
      "needs_background": "light"
     },
     "output_type": "display_data"
    }
   ],
   "source": [
    "x = np.arange(len(phases))  # ラベルの位置\n",
    "width = 0.35  # バーの幅\n",
    "fig, ax1 = plt.subplots()\n",
    "\n",
    "# ユーザーカウントの縦棒グラフ\n",
    "ax1.bar(x - width/2, user_counts[:, 0], width, label='スポット', color='mediumorchid')\n",
    "ax1.bar(x + width/2, user_counts[:, 1], width, label='定期', color='navy')\n",
    "ax1.set_xlabel('購入回数')\n",
    "ax1.set_ylabel('ユーザー数')\n",
    "ax1.set_title('F2転換タイプ別　残存率')\n",
    "ax1.set_xticks(x)\n",
    "ax1.set_xticklabels(phases)\n",
    "ax1.legend(loc='upper left')\n",
    "\n",
    "# 残存率の折れ線グラフ\n",
    "ax2 = ax1.twinx()  # 共通のX軸を持つY軸を追加\n",
    "ax2.plot(phases, survival_rates[:, 0], label='スポット_残存率', color='orchid', marker='o', linewidth=2)\n",
    "ax2.plot(phases, survival_rates[:, 1], label='定期_残存率', color='slateblue', marker='o', linewidth=2)\n",
    "ax2.set_ylabel('残存率 (%)')  # Y軸のラベルを設定\n",
    "\n",
    "fig.tight_layout() \n",
    "ax2.legend(loc='upper right')"
   ]
  },
  {
   "cell_type": "code",
   "execution_count": 21,
   "id": "443759d9",
   "metadata": {},
   "outputs": [],
   "source": [
    "# second_purchase_typeが定期である行をフィルタリング\n",
    "filtered_df = df[df['second_purchase_type'] == '定期']\n",
    "\n",
    "# フィルタリングしたDataFrameを使って集約処理\n",
    "agg_mean_results = filtered_df.groupby('second_purchase_item_quantity').agg(\n",
    "    avg_ltv=pd.NamedAgg(column='ltv_365', aggfunc='mean')\n",
    ").reset_index()"
   ]
  },
  {
   "cell_type": "code",
   "execution_count": 22,
   "id": "1af6268d",
   "metadata": {},
   "outputs": [],
   "source": [
    "agg_mean_results = agg_mean_results.rename(columns={\n",
    "    'second_purchase_item_quantity': 'F2定期商品数',\n",
    "    'avg_ltv': '365日LTV平均'\n",
    "})"
   ]
  },
  {
   "cell_type": "code",
   "execution_count": 23,
   "id": "2de0284e",
   "metadata": {},
   "outputs": [],
   "source": [
    "agg_mean_results['365日LTV平均'] = agg_mean_results['365日LTV平均'].round()\n",
    "agg_mean_results['365日LTV平均'] = agg_mean_results['365日LTV平均'].astype('int')\n",
    "agg_mean_results['F2定期商品数'] = agg_mean_results['F2定期商品数'].astype('int')"
   ]
  },
  {
   "cell_type": "code",
   "execution_count": 24,
   "id": "891c7943",
   "metadata": {},
   "outputs": [
    {
     "data": {
      "text/html": [
       "<div>\n",
       "<style scoped>\n",
       "    .dataframe tbody tr th:only-of-type {\n",
       "        vertical-align: middle;\n",
       "    }\n",
       "\n",
       "    .dataframe tbody tr th {\n",
       "        vertical-align: top;\n",
       "    }\n",
       "\n",
       "    .dataframe thead th {\n",
       "        text-align: right;\n",
       "    }\n",
       "</style>\n",
       "<table border=\"1\" class=\"dataframe\">\n",
       "  <thead>\n",
       "    <tr style=\"text-align: right;\">\n",
       "      <th></th>\n",
       "      <th>F2定期商品数</th>\n",
       "      <th>365日LTV平均</th>\n",
       "    </tr>\n",
       "  </thead>\n",
       "  <tbody>\n",
       "    <tr>\n",
       "      <th>0</th>\n",
       "      <td>1</td>\n",
       "      <td>7901</td>\n",
       "    </tr>\n",
       "    <tr>\n",
       "      <th>1</th>\n",
       "      <td>2</td>\n",
       "      <td>13460</td>\n",
       "    </tr>\n",
       "    <tr>\n",
       "      <th>2</th>\n",
       "      <td>3</td>\n",
       "      <td>21604</td>\n",
       "    </tr>\n",
       "  </tbody>\n",
       "</table>\n",
       "</div>"
      ],
      "text/plain": [
       "   F2定期商品数  365日LTV平均\n",
       "0        1       7901\n",
       "1        2      13460\n",
       "2        3      21604"
      ]
     },
     "execution_count": 24,
     "metadata": {},
     "output_type": "execute_result"
    }
   ],
   "source": [
    "agg_mean_results"
   ]
  },
  {
   "cell_type": "code",
   "execution_count": 25,
   "id": "33fbdb0c",
   "metadata": {},
   "outputs": [],
   "source": [
    "filtered_df = df[df['second_purchase_type'] == '定期']"
   ]
  },
  {
   "cell_type": "code",
   "execution_count": 26,
   "id": "7b3e7020",
   "metadata": {},
   "outputs": [
    {
     "data": {
      "image/png": "[encoded data removed]",
      "text/plain": [
       "<Figure size 720x432 with 1 Axes>"
      ]
     },
     "metadata": {
      "needs_background": "light"
     },
     "output_type": "display_data"
    }
   ],
   "source": [
    "plt.figure(figsize=(10, 6))\n",
    "colors = ['navy', 'slateblue', 'blueviolet']\n",
    "sns.boxplot(x='second_purchase_item_quantity', y='ltv_365', data=df_filtered, palette=colors)\n",
    "plt.title('F2定期商品数別365日LTV')\n",
    "plt.xlabel('F2定期商品数')\n",
    "plt.ylabel('365日LTV')\n",
    "plt.tight_layout()  # レイアウトの自動調整\n",
    "plt.show()"
   ]
  },
  {
   "cell_type": "code",
   "execution_count": 27,
   "id": "c45b4841",
   "metadata": {},
   "outputs": [],
   "source": [
    "#F3~F5までの定期品数の増減を集計したCSVを読み込む\n",
    "file_path = 'analysis1_sample_data_3.csv'\n",
    "item_quantity_df = pd.read_csv(file_path)"
   ]
  },
  {
   "cell_type": "code",
   "execution_count": 28,
   "id": "ac899669",
   "metadata": {},
   "outputs": [
    {
     "data": {
      "text/html": [
       "<div>\n",
       "<style scoped>\n",
       "    .dataframe tbody tr th:only-of-type {\n",
       "        vertical-align: middle;\n",
       "    }\n",
       "\n",
       "    .dataframe tbody tr th {\n",
       "        vertical-align: top;\n",
       "    }\n",
       "\n",
       "    .dataframe thead th {\n",
       "        text-align: right;\n",
       "    }\n",
       "</style>\n",
       "<table border=\"1\" class=\"dataframe\">\n",
       "  <thead>\n",
       "    <tr style=\"text-align: right;\">\n",
       "      <th></th>\n",
       "      <th>user_id</th>\n",
       "      <th>second_purchase_item_quantity</th>\n",
       "      <th>third_purchase_item_quantity</th>\n",
       "      <th>fourth_purchase_item_quantity</th>\n",
       "      <th>fifth_purchase_item_quantity</th>\n",
       "      <th>status_f3</th>\n",
       "      <th>status_f4</th>\n",
       "      <th>status_f5</th>\n",
       "    </tr>\n",
       "  </thead>\n",
       "  <tbody>\n",
       "    <tr>\n",
       "      <th>0</th>\n",
       "      <td>2</td>\n",
       "      <td>3</td>\n",
       "      <td>NaN</td>\n",
       "      <td>NaN</td>\n",
       "      <td>NaN</td>\n",
       "      <td>NaN</td>\n",
       "      <td>NaN</td>\n",
       "      <td>NaN</td>\n",
       "    </tr>\n",
       "    <tr>\n",
       "      <th>1</th>\n",
       "      <td>4</td>\n",
       "      <td>3</td>\n",
       "      <td>3.0</td>\n",
       "      <td>2.0</td>\n",
       "      <td>2.0</td>\n",
       "      <td>維持</td>\n",
       "      <td>減少</td>\n",
       "      <td>維持</td>\n",
       "    </tr>\n",
       "    <tr>\n",
       "      <th>2</th>\n",
       "      <td>11</td>\n",
       "      <td>3</td>\n",
       "      <td>3.0</td>\n",
       "      <td>3.0</td>\n",
       "      <td>3.0</td>\n",
       "      <td>維持</td>\n",
       "      <td>維持</td>\n",
       "      <td>維持</td>\n",
       "    </tr>\n",
       "    <tr>\n",
       "      <th>3</th>\n",
       "      <td>15</td>\n",
       "      <td>3</td>\n",
       "      <td>NaN</td>\n",
       "      <td>NaN</td>\n",
       "      <td>NaN</td>\n",
       "      <td>NaN</td>\n",
       "      <td>NaN</td>\n",
       "      <td>NaN</td>\n",
       "    </tr>\n",
       "    <tr>\n",
       "      <th>4</th>\n",
       "      <td>16</td>\n",
       "      <td>3</td>\n",
       "      <td>3.0</td>\n",
       "      <td>NaN</td>\n",
       "      <td>NaN</td>\n",
       "      <td>維持</td>\n",
       "      <td>NaN</td>\n",
       "      <td>NaN</td>\n",
       "    </tr>\n",
       "  </tbody>\n",
       "</table>\n",
       "</div>"
      ],
      "text/plain": [
       "   user_id  second_purchase_item_quantity  third_purchase_item_quantity  \\\n",
       "0        2                              3                           NaN   \n",
       "1        4                              3                           3.0   \n",
       "2       11                              3                           3.0   \n",
       "3       15                              3                           NaN   \n",
       "4       16                              3                           3.0   \n",
       "\n",
       "   fourth_purchase_item_quantity  fifth_purchase_item_quantity status_f3  \\\n",
       "0                            NaN                           NaN       NaN   \n",
       "1                            2.0                           2.0        維持   \n",
       "2                            3.0                           3.0        維持   \n",
       "3                            NaN                           NaN       NaN   \n",
       "4                            NaN                           NaN        維持   \n",
       "\n",
       "  status_f4 status_f5  \n",
       "0       NaN       NaN  \n",
       "1        減少        維持  \n",
       "2        維持        維持  \n",
       "3       NaN       NaN  \n",
       "4       NaN       NaN  "
      ]
     },
     "execution_count": 28,
     "metadata": {},
     "output_type": "execute_result"
    }
   ],
   "source": [
    "item_quantity_df.head()"
   ]
  },
  {
   "cell_type": "code",
   "execution_count": 29,
   "id": "4e892669",
   "metadata": {},
   "outputs": [],
   "source": [
    "status = ['status_f3', 'status_f4', 'status_f5']\n",
    "results = {status: item_quantity_df.groupby(status)[\"user_id\"].nunique() for status in status}"
   ]
  },
  {
   "cell_type": "code",
   "execution_count": 30,
   "id": "ee548ffe",
   "metadata": {},
   "outputs": [],
   "source": [
    "results_df = pd.DataFrame(results).fillna(0).transpose()"
   ]
  },
  {
   "cell_type": "code",
   "execution_count": 31,
   "id": "c03d2f18",
   "metadata": {},
   "outputs": [
    {
     "data": {
      "image/png": "[encoded data removed]",
      "text/plain": [
       "<Figure size 720x432 with 1 Axes>"
      ]
     },
     "metadata": {
      "needs_background": "light"
     },
     "output_type": "display_data"
    }
   ],
   "source": [
    "colors = ['navy', 'slateblue', 'blueviolet']\n",
    "results_df.plot(kind='bar', stacked=True, figsize=(10, 6), color=colors)\n",
    "ticks = range(len(results_df.index))\n",
    "labels = ['F3', 'F4', 'F5']\n",
    "plt.title('F3〜F5定期商品増減')\n",
    "plt.xlabel('購入回数')\n",
    "plt.ylabel('定期商品増減ユーザー数')\n",
    "plt.xticks(ticks=ticks, labels=labels, rotation=0)\n",
    "\n",
    "plt.show()"
   ]
  },
  {
   "cell_type": "code",
   "execution_count": null,
   "id": "e9da251d",
   "metadata": {},
   "outputs": [],
   "source": []
  }
 ],
 "metadata": {
  "kernelspec": {
   "display_name": "Python 3 (ipykernel)",
   "language": "python",
   "name": "python3"
  },
  "language_info": {
   "codemirror_mode": {
    "name": "ipython",
    "version": 3
   },
   "file_extension": ".py",
   "mimetype": "text/x-python",
   "name": "python",
   "nbconvert_exporter": "python",
   "pygments_lexer": "ipython3",
   "version": "3.9.7"
  }
 },
 "nbformat": 4,
 "nbformat_minor": 5
}
